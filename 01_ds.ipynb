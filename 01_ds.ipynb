{
 "metadata": {
  "language_info": {
   "codemirror_mode": {
    "name": "ipython",
    "version": 3
   },
   "file_extension": ".py",
   "mimetype": "text/x-python",
   "name": "python",
   "nbconvert_exporter": "python",
   "pygments_lexer": "ipython3",
   "version": "3.8.5-final"
  },
  "orig_nbformat": 2,
  "kernelspec": {
   "name": "python38564bite249004696c34343bfa65420b07328ed",
   "display_name": "Python 3.8.5 64-bit"
  }
 },
 "nbformat": 4,
 "nbformat_minor": 2,
 "cells": [
  {
   "cell_type": "code",
   "execution_count": 4,
   "metadata": {},
   "outputs": [
    {
     "output_type": "stream",
     "name": "stdout",
     "text": [
      "Python 3.8.5\n"
     ]
    }
   ],
   "source": [
    "!python3 --version"
   ]
  },
  {
   "cell_type": "code",
   "execution_count": 62,
   "metadata": {},
   "outputs": [
    {
     "output_type": "stream",
     "name": "stdout",
     "text": [
      "[]\n"
     ]
    }
   ],
   "source": [
    "import re\n",
    "def reverse_element(element):\n",
    "    # reveese the element\n",
    "    return(element[::-1])\n",
    "\n",
    "def check_palindrome(element):\n",
    "    # now check if original = reverse, return true or flase\n",
    "    reversed = reverse_element(element)\n",
    "    return(element == reversed)\n",
    "\n",
    "# try\n",
    "# reverse_element(\"\"\"sabas\"\"\")\n",
    "text = \"\"\"In research & news articles, keywords form an important component since they provide a concise representation of the article’s content. Keywords also play a crucial role in locating the article from information retrieval systems, bibliographic databases and for search engine optimization. Keywords also help to categorize the article into the relevant subject or discipline.\n",
    "Conventional approaches of extracting keywords involve manual assignment of keywords based on the article content and the authors’ judgment. This involves a lot of time & effort and also may not be accurate in terms of selecting the appropriate keywords. With the emergence of Natural Language Processing (NLP), keyword extraction has evolved into being effective as well as efficient.\n",
    "And in this article, we will combine the two — we’ll be applying NLP on a collection of articles (more on this below) to extract keywords.\"\"\"\n",
    "text = re.sub(r'^a-zA-z\\s','',text)\n",
    "text = re.sub(r'\\s.\\s',' ',text)\n",
    "# print(text)\n",
    "palindrome = []\n",
    "for word in text.split(' '):\n",
    "    if check_palindrome(word):\n",
    "        palindrome.append(word)\n",
    "print((palindrome))\n"
   ]
  },
  {
   "cell_type": "code",
   "execution_count": 30,
   "metadata": {},
   "outputs": [
    {
     "output_type": "execute_result",
     "data": {
      "text/plain": [
       "True"
      ]
     },
     "metadata": {},
     "execution_count": 30
    }
   ],
   "source": [
    "\"sabas\" == \"sabas\""
   ]
  },
  {
   "cell_type": "code",
   "execution_count": 24,
   "metadata": {},
   "outputs": [
    {
     "output_type": "execute_result",
     "data": {
      "text/plain": [
       "('10/20', (7, 'p4'))"
      ]
     },
     "metadata": {},
     "execution_count": 24
    }
   ],
   "source": [
    "sls=('10/20',[1,2,3,7,4,5])\n",
    "product_name={0:'p1',1:'p2',2:'p3',3:'p4',4:'p5',4:'p4',5:'p6'}\n",
    "def get_max(sls):\n",
    "    max_sls=(sls.index(max(sls)))\n",
    "    return max(sls),product_name[max_sls]\n",
    "\n",
    "sls[0],get_max(sls[1])"
   ]
  },
  {
   "cell_type": "code",
   "execution_count": 72,
   "metadata": {},
   "outputs": [
    {
     "output_type": "execute_result",
     "data": {
      "text/plain": [
       "30"
      ]
     },
     "metadata": {},
     "execution_count": 72
    }
   ],
   "source": [
    "my_string = \"There's a lot going on in the universe don't you think?\"\n",
    "my_string.find('universe')\n"
   ]
  },
  {
   "cell_type": "code",
   "execution_count": 76,
   "metadata": {},
   "outputs": [
    {
     "output_type": "execute_result",
     "data": {
      "text/plain": [
       "28"
      ]
     },
     "metadata": {},
     "execution_count": 76
    }
   ],
   "source": [
    "my_slice = my_string[::2]\n",
    "len(my_slice)"
   ]
  },
  {
   "cell_type": "code",
   "execution_count": 80,
   "metadata": {},
   "outputs": [
    {
     "output_type": "execute_result",
     "data": {
      "text/plain": [
       "\"If we used yesterday's stock price instead ,it would result in a 2% increase in the value of our assets\""
      ]
     },
     "metadata": {},
     "execution_count": 80
    }
   ],
   "source": [
    "bright_idea = \"If we used yesterday's stock price instead\"\n",
    "result = \"it would result in a 2% increase in the value of our assets\"\n",
    "bright_idea + \" ,\" + result"
   ]
  },
  {
   "cell_type": "code",
   "execution_count": 147,
   "metadata": {},
   "outputs": [],
   "source": [
    "import random\n",
    "rand=200000000000\n",
    "i = 0\n",
    "x = ''\n",
    "while i <= 1000000000:\n",
    "    if random.randrange(0, rand) == (rand-1):\n",
    "        x = 'Match'\n",
    "        print(x, i)\n",
    "    i = i+1"
   ]
  },
  {
   "cell_type": "code",
   "execution_count": 198,
   "metadata": {},
   "outputs": [],
   "source": [
    "word_dict = {'a':\n",
    "                {\n",
    "                 'apple': 'the round fruit of a tree of the rose family',\n",
    "                 'ant': 'an insect which cleans up the floor'\n",
    "                },\n",
    "             'b':\n",
    "                {\n",
    "                 'bad': 'of poor quaity or low standard',\n",
    "                 'business': 'season 8 of GOT'\n",
    "                }\n",
    "            }"
   ]
  },
  {
   "cell_type": "code",
   "execution_count": 199,
   "metadata": {},
   "outputs": [
    {
     "output_type": "stream",
     "name": "stdout",
     "text": [
      "The meanings in the dictionary are ['the round fruit of a tree of the rose family', 'an insect which cleans up the floor', 'of poor quaity or low standard', 'season 8 of GOT']\n"
     ]
    }
   ],
   "source": [
    "my_list = []\n",
    "for letter, words in word_dict.items():\n",
    "    for meaning in words.values():\n",
    "        my_list.append(meaning)\n",
    "print(f\"The meanings in the dictionary are {my_list}\")"
   ]
  },
  {
   "cell_type": "code",
   "execution_count": 200,
   "metadata": {},
   "outputs": [
    {
     "output_type": "stream",
     "name": "stdout",
     "text": [
      "['the round fruit of a tree of the rose family', 'an insect which cleans up the floor', 'of poor quaity or low standard', 'season 8 of GOT']\n"
     ]
    }
   ],
   "source": [
    "x = [list(words.values())for letter, words in word_dict.items()]\n",
    "print([element for nested_list in x for element in nested_list])\n"
   ]
  },
  {
   "cell_type": "code",
   "execution_count": 3,
   "metadata": {},
   "outputs": [
    {
     "output_type": "stream",
     "name": "stdout",
     "text": [
      "[1, 4, 9, 16, 25, 36, 49, 64, 81, 100, 121, 144, 169, 196, 225, 256, 289, 324, 361, 400, 441, 484, 529, 576, 625, 676, 729, 784, 841, 900, 961, 1024, 1089, 1156, 1225, 1296, 1369, 1444, 1521, 1600, 1681, 1764, 1849, 1936, 2025, 2116, 2209, 2304, 2401, 2500, 2601, 2704, 2809, 2916, 3025, 3136, 3249, 3364, 3481]\n"
     ]
    }
   ],
   "source": [
    "# List Comprehension\n",
    "x = [1,2,3]\n",
    "\n",
    "print([i**2 for i in range(1,60,1) if i > 0])"
   ]
  },
  {
   "cell_type": "code",
   "execution_count": 12,
   "metadata": {},
   "outputs": [
    {
     "output_type": "stream",
     "name": "stdout",
     "text": [
      "<class 'set'>\n6\n[(0, 4), (1, 5), (2, 6), (3, 8)]\n"
     ]
    }
   ],
   "source": [
    "l1 ={1,2,3,0}\n",
    "l2 = [4,5,6,8]\n",
    "print(type(l1))\n",
    "print(sum(l1))\n",
    "print(list(zip(l1,l2)))"
   ]
  },
  {
   "cell_type": "code",
   "execution_count": 18,
   "metadata": {},
   "outputs": [
    {
     "output_type": "stream",
     "name": "stdout",
     "text": [
      "[4, 5, 6, 9, 10, 12, 23]\n"
     ]
    }
   ],
   "source": [
    "def run_func(func_name, some_list):\n",
    "    # func_name(some_list)\n",
    "    some_list.sort()\n",
    "\n",
    "l1 = [6,5,4,9,10,23,12]\n",
    "run_func(sorted, l1)\n",
    "print(l1)"
   ]
  },
  {
   "cell_type": "code",
   "execution_count": 17,
   "metadata": {},
   "outputs": [
    {
     "output_type": "stream",
     "name": "stdout",
     "text": [
      "[6, 5, 4, 9, 10, 23, 12]\n"
     ]
    }
   ],
   "source": [
    "l2 = [6,5,4,9,10,23,12]\n",
    "# l2.sort()\n",
    "sorted(l2)\n",
    "print(l2)"
   ]
  },
  {
   "cell_type": "code",
   "execution_count": 69,
   "metadata": {},
   "outputs": [
    {
     "output_type": "stream",
     "name": "stdout",
     "text": [
      "The value of your hand is 21\n"
     ]
    }
   ],
   "source": [
    "def get_hand_value(*args):\n",
    "    x=(args)\n",
    "    total = sum(x)\n",
    "    if (total == 21 and 11 in x and 10 in x):\n",
    "        return str(\"Winner Winner Chicken Dinner\")    \n",
    "    elif (total <= 21):\n",
    "        return str(f\"The value of your hand is {total}\")\n",
    "    elif([element for element in x if element == 11 and total > 21]):\n",
    "        total = total - 10\n",
    "        if (total > 21):\n",
    "            return(\"Busted\")\n",
    "        else:\n",
    "            return str(f\"The value of your hand is {total}\")\n",
    "    else:\n",
    "        return str(f\"The value of your hand is {total}\")\n",
    "\n",
    "\n",
    "# While testing the execution of your program, I will use the hands below:\n",
    "hand_1 = get_hand_value(4,4,4,4)\n",
    "hand_2 = get_hand_value(11,10)\n",
    "hand_3 = get_hand_value(11,5,6,4,11,4)\n",
    "hand_4 = get_hand_value(11,5,6,10)\n",
    "hand_5 = get_hand_value(10,5,7)\n",
    "hand_6 = get_hand_value(5,6,5,10)\n",
    "hand_7 = get_hand_value(10,11)\n",
    "hand_8 = get_hand_value(11,11,11,11,10,10)\n",
    "hand_9 = get_hand_value(5,6,5,5)\n",
    "hand_0 = get_hand_value(1,10,10)\n",
    "# print(hand_1)\n",
    "# print(hand_2)\n",
    "# print(hand_3)\n",
    "# print(hand_4)\n",
    "# print(hand_5)\n",
    "# print(hand_6)\n",
    "# print(hand_7)\n",
    "# print(hand_8)\n",
    "# print(hand_9)\n",
    "print(hand_0)"
   ]
  },
  {
   "cell_type": "code",
   "execution_count": 38,
   "metadata": {},
   "outputs": [
    {
     "output_type": "stream",
     "name": "stdout",
     "text": [
      "[12, 12]\n"
     ]
    }
   ],
   "source": [
    "l2 = [6,5,4,9,10,12,23,12]\n",
    "print([element for element in l2 if element == 12 ])"
   ]
  },
  {
   "cell_type": "code",
   "execution_count": 88,
   "metadata": {},
   "outputs": [
    {
     "output_type": "stream",
     "name": "stdout",
     "text": [
      "date=2020-12-05, product=['prod1'], sale=['1']\ndate=2020-12-05, product=[], sale=[]\n{'date': '2020-12-05', 'product': ['prod1', 'prod2'], 'sale': ['1', '2']}\ndate=2020-12-05, product=['prod1', 'prod2'], sale=['1', '2']\ndate=2020-12-05, product=['prod2'], sale=['2']\n"
     ]
    }
   ],
   "source": [
    "class Sales:\n",
    "    def __init__(self, date, product=None, sale=None):\n",
    "        self.date = date\n",
    "        \n",
    "        if product == None:\n",
    "            self.product = []\n",
    "        else:\n",
    "            self.product = product\n",
    "        \n",
    "        if sale == None:\n",
    "            self.sale = []\n",
    "        else:\n",
    "            self.sale = sale\n",
    "\n",
    "    def add_sales(self, product, sale):\n",
    "        if product not in self.product:\n",
    "            self.product.append(product)\n",
    "            self.sale.append(sale)\n",
    "        else:\n",
    "            print(f\"the product {product} is already present\")\n",
    "\n",
    "\n",
    "    def __str__(self):\n",
    "        return f\"date={self.date}, product={self.product}, sale={self.sale}\"\n",
    "\n",
    "sale1 = Sales('2020-12-05', ['prod1'], ['1'])\n",
    "print(sale1)\n",
    "sale2 = Sales('2020-12-05')\n",
    "print(sale2)\n",
    "sale1.add_sales('prod2','2')\n",
    "sale2.add_sales('prod2','2')\n",
    "print(sale1.__dict__)\n",
    "print(sale1)\n",
    "print(sale2)"
   ]
  },
  {
   "cell_type": "code",
   "execution_count": 96,
   "metadata": {},
   "outputs": [
    {
     "output_type": "stream",
     "name": "stdout",
     "text": [
      "<__main__.Sales object at 0x7f03e489c7c0>\nhi\nhi\n"
     ]
    }
   ],
   "source": [
    "class Sales:\n",
    "    def __init__(self,text):\n",
    "        print(self)\n",
    "        print(text)\n",
    "        self.text=text\n",
    "        print(self.text)\n",
    "sls1 = Sales('hi')"
   ]
  },
  {
   "cell_type": "code",
   "execution_count": 107,
   "metadata": {},
   "outputs": [
    {
     "output_type": "stream",
     "name": "stdout",
     "text": [
      "Adrenaline Junkies\nCompany name: Adrenaline Junkies\nCompany name: bever\nCompany name: beverly hills\n"
     ]
    }
   ],
   "source": [
    "class Company:\n",
    "    pass\n",
    "\n",
    "class Travel(Company):\n",
    "\n",
    "    def __init__(self, name='Generic'):\n",
    "        self.name = name\n",
    "    \n",
    "    def set_name(self, name):\n",
    "        self.name = name\n",
    "\n",
    "    def __str__(self):\n",
    "        return f\"\"\"Company name: {self.name}\"\"\"\n",
    "trvl = Travel('Adrenaline Junkies')\n",
    "print(trvl.name)\n",
    "print(trvl)\n",
    "\n",
    "bever = Travel('bever')\n",
    "print(bever)\n",
    "bever.set_name('beverly hills')\n",
    "print(bever)"
   ]
  },
  {
   "cell_type": "code",
   "execution_count": 119,
   "metadata": {},
   "outputs": [
    {
     "output_type": "stream",
     "name": "stdout",
     "text": [
      "98\n"
     ]
    }
   ],
   "source": [
    "fx = (lambda x,y=100: x**3+y)\n",
    "print(fx(2,90))\n"
   ]
  },
  {
   "cell_type": "code",
   "execution_count": 121,
   "metadata": {},
   "outputs": [
    {
     "output_type": "execute_result",
     "data": {
      "text/plain": [
       "<generator object <genexpr> at 0x7f03e46765f0>"
      ]
     },
     "metadata": {},
     "execution_count": 121
    }
   ],
   "source": [
    "l1 = (num for num in range(1,100))\n",
    "l1"
   ]
  },
  {
   "cell_type": "code",
   "execution_count": 142,
   "metadata": {},
   "outputs": [
    {
     "output_type": "execute_result",
     "data": {
      "text/plain": [
       "<matplotlib.legend.Legend at 0x7f03ae0f1af0>"
      ]
     },
     "metadata": {},
     "execution_count": 142
    },
    {
     "output_type": "display_data",
     "data": {
      "text/plain": "<Figure size 720x576 with 1 Axes>",
      "image/png": "[encoded data removed]"
     },
     "metadata": {
      "needs_background": "light"
     }
    }
   ],
   "source": [
    "%matplotlib inline\n",
    "import matplotlib.pyplot as plt\n",
    "from time import time\n",
    "from random import random\n",
    "sizes = [100000*i for i in range(1,1001)]\n",
    "times_range = []\n",
    "times_xrange = []\n",
    "times_xrange_1 = []\n",
    "for size in sizes:\n",
    "    start_time = time()\n",
    "    new_list_1 = []\n",
    "    just_list_1 = [x for x in range(size)]\n",
    "    # print(type(just_list_1))\n",
    "    for x in just_list_1:\n",
    "        new_list_1.append(x/2)\n",
    "    total_time = time() - start_time\n",
    "    times_range.append(total_time)\n",
    "\n",
    "for size in sizes:\n",
    "    start_time = time()\n",
    "    new_list_2 = []\n",
    "    just_list_2 = (x for x in range(size))\n",
    "    for x in just_list_2:\n",
    "        new_list_2.append(x/2)\n",
    "    total_time = time() - start_time\n",
    "    times_xrange.append(total_time)\n",
    "\n",
    "for size in sizes:\n",
    "    start_time = time()\n",
    "    new_list_3 = []\n",
    "    for x in range(size):\n",
    "        new_list_3.append(x/2)\n",
    "    total_time = time() - start_time\n",
    "    times_xrange_1.append(total_time)\n",
    "\n",
    "\n",
    "plt.figure(figsize=(10,8))\n",
    "l1 = plt.plot(times_range)\n",
    "l2 = plt.plot(times_xrange)\n",
    "l3 = plt.plot(times_xrange_1)\n",
    "plt.legend(['list', 'generator', 'gene_inline'])"
   ]
  },
  {
   "cell_type": "code",
   "execution_count": 83,
   "metadata": {},
   "outputs": [
    {
     "output_type": "execute_result",
     "data": {
      "text/plain": [
       "<matplotlib.legend.Legend at 0x7f73a5194e80>"
      ]
     },
     "metadata": {},
     "execution_count": 83
    },
    {
     "output_type": "display_data",
     "data": {
      "text/plain": "<Figure size 720x576 with 1 Axes>",
      "image/svg+xml": "<?xml version=\"1.0\" encoding=\"utf-8\" standalone=\"no\"?>\n<!DOCTYPE svg PUBLIC \"-//W3C//DTD SVG 1.1//EN\"\n  \"http://www.w3.org/Graphics/SVG/1.1/DTD/svg11.dtd\">\n<!-- Created with matplotlib (https://matplotlib.org/) -->\n<svg height=\"465.958125pt\" version=\"1.1\" viewBox=\"0 0 604.85 465.958125\" width=\"604.85pt\" xmlns=\"http://www.w3.org/2000/svg\" xmlns:xlink=\"http://www.w3.org/1999/xlink\">\n <metadata>\n  <rdf:RDF xmlns:cc=\"http://creativecommons.org/ns#\" xmlns:dc=\"http://purl.org/dc/elements/1.1/\" xmlns:rdf=\"http://www.w3.org/1999/02/22-rdf-syntax-ns#\">\n   <cc:Work>\n    <dc:type rdf:resource=\"http://purl.org/dc/dcmitype/StillImage\"/>\n    <dc:date>2020-12-12T02:18:03.105209</dc:date>\n    <dc:format>image/svg+xml</dc:format>\n    <dc:creator>\n     <cc:Agent>\n      <dc:title>Matplotlib v3.3.3, https://matplotlib.org/</dc:title>\n     </cc:Agent>\n    </dc:creator>\n   </cc:Work>\n  </rdf:RDF>\n </metadata>\n <defs>\n  <style type=\"text/css\">*{stroke-linecap:butt;stroke-linejoin:round;}</style>\n </defs>\n <g id=\"figure_1\">\n  <g id=\"patch_1\">\n   <path d=\"M 0 465.958125 \nL 604.85 465.958125 \nL 604.85 0 \nL 0 0 \nz\n\" style=\"fill:none;\"/>\n  </g>\n  <g id=\"axes_1\">\n   <g id=\"patch_2\">\n    <path d=\"M 39.65 442.08 \nL 597.65 442.08 \nL 597.65 7.2 \nL 39.65 7.2 \nz\n\" style=\"fill:#ffffff;\"/>\n   </g>\n   <g id=\"matplotlib.axis_1\">\n    <g id=\"xtick_1\">\n     <g id=\"line2d_1\">\n      <defs>\n       <path d=\"M 0 0 \nL 0 3.5 \n\" id=\"m48cafd9970\" style=\"stroke:#000000;stroke-width:0.8;\"/>\n      </defs>\n      <g>\n       <use style=\"stroke:#000000;stroke-width:0.8;\" x=\"65.013636\" xlink:href=\"#m48cafd9970\" y=\"442.08\"/>\n      </g>\n     </g>\n     <g id=\"text_1\">\n      <!-- 0 -->\n      <g transform=\"translate(61.832386 456.678437)scale(0.1 -0.1)\">\n       <defs>\n        <path d=\"M 31.78125 66.40625 \nQ 24.171875 66.40625 20.328125 58.90625 \nQ 16.5 51.421875 16.5 36.375 \nQ 16.5 21.390625 20.328125 13.890625 \nQ 24.171875 6.390625 31.78125 6.390625 \nQ 39.453125 6.390625 43.28125 13.890625 \nQ 47.125 21.390625 47.125 36.375 \nQ 47.125 51.421875 43.28125 58.90625 \nQ 39.453125 66.40625 31.78125 66.40625 \nz\nM 31.78125 74.21875 \nQ 44.046875 74.21875 50.515625 64.515625 \nQ 56.984375 54.828125 56.984375 36.375 \nQ 56.984375 17.96875 50.515625 8.265625 \nQ 44.046875 -1.421875 31.78125 -1.421875 \nQ 19.53125 -1.421875 13.0625 8.265625 \nQ 6.59375 17.96875 6.59375 36.375 \nQ 6.59375 54.828125 13.0625 64.515625 \nQ 19.53125 74.21875 31.78125 74.21875 \nz\n\" id=\"DejaVuSans-48\"/>\n       </defs>\n       <use xlink:href=\"#DejaVuSans-48\"/>\n      </g>\n     </g>\n    </g>\n    <g id=\"xtick_2\">\n     <g id=\"line2d_2\">\n      <g>\n       <use style=\"stroke:#000000;stroke-width:0.8;\" x=\"168.538683\" xlink:href=\"#m48cafd9970\" y=\"442.08\"/>\n      </g>\n     </g>\n     <g id=\"text_2\">\n      <!-- 20 -->\n      <g transform=\"translate(162.176183 456.678437)scale(0.1 -0.1)\">\n       <defs>\n        <path d=\"M 19.1875 8.296875 \nL 53.609375 8.296875 \nL 53.609375 0 \nL 7.328125 0 \nL 7.328125 8.296875 \nQ 12.9375 14.109375 22.625 23.890625 \nQ 32.328125 33.6875 34.8125 36.53125 \nQ 39.546875 41.84375 41.421875 45.53125 \nQ 43.3125 49.21875 43.3125 52.78125 \nQ 43.3125 58.59375 39.234375 62.25 \nQ 35.15625 65.921875 28.609375 65.921875 \nQ 23.96875 65.921875 18.8125 64.3125 \nQ 13.671875 62.703125 7.8125 59.421875 \nL 7.8125 69.390625 \nQ 13.765625 71.78125 18.9375 73 \nQ 24.125 74.21875 28.421875 74.21875 \nQ 39.75 74.21875 46.484375 68.546875 \nQ 53.21875 62.890625 53.21875 53.421875 \nQ 53.21875 48.921875 51.53125 44.890625 \nQ 49.859375 40.875 45.40625 35.40625 \nQ 44.1875 33.984375 37.640625 27.21875 \nQ 31.109375 20.453125 19.1875 8.296875 \nz\n\" id=\"DejaVuSans-50\"/>\n       </defs>\n       <use xlink:href=\"#DejaVuSans-50\"/>\n       <use x=\"63.623047\" xlink:href=\"#DejaVuSans-48\"/>\n      </g>\n     </g>\n    </g>\n    <g id=\"xtick_3\">\n     <g id=\"line2d_3\">\n      <g>\n       <use style=\"stroke:#000000;stroke-width:0.8;\" x=\"272.063729\" xlink:href=\"#m48cafd9970\" y=\"442.08\"/>\n      </g>\n     </g>\n     <g id=\"text_3\">\n      <!-- 40 -->\n      <g transform=\"translate(265.701229 456.678437)scale(0.1 -0.1)\">\n       <defs>\n        <path d=\"M 37.796875 64.3125 \nL 12.890625 25.390625 \nL 37.796875 25.390625 \nz\nM 35.203125 72.90625 \nL 47.609375 72.90625 \nL 47.609375 25.390625 \nL 58.015625 25.390625 \nL 58.015625 17.1875 \nL 47.609375 17.1875 \nL 47.609375 0 \nL 37.796875 0 \nL 37.796875 17.1875 \nL 4.890625 17.1875 \nL 4.890625 26.703125 \nz\n\" id=\"DejaVuSans-52\"/>\n       </defs>\n       <use xlink:href=\"#DejaVuSans-52\"/>\n       <use x=\"63.623047\" xlink:href=\"#DejaVuSans-48\"/>\n      </g>\n     </g>\n    </g>\n    <g id=\"xtick_4\">\n     <g id=\"line2d_4\">\n      <g>\n       <use style=\"stroke:#000000;stroke-width:0.8;\" x=\"375.588776\" xlink:href=\"#m48cafd9970\" y=\"442.08\"/>\n      </g>\n     </g>\n     <g id=\"text_4\">\n      <!-- 60 -->\n      <g transform=\"translate(369.226276 456.678437)scale(0.1 -0.1)\">\n       <defs>\n        <path d=\"M 33.015625 40.375 \nQ 26.375 40.375 22.484375 35.828125 \nQ 18.609375 31.296875 18.609375 23.390625 \nQ 18.609375 15.53125 22.484375 10.953125 \nQ 26.375 6.390625 33.015625 6.390625 \nQ 39.65625 6.390625 43.53125 10.953125 \nQ 47.40625 15.53125 47.40625 23.390625 \nQ 47.40625 31.296875 43.53125 35.828125 \nQ 39.65625 40.375 33.015625 40.375 \nz\nM 52.59375 71.296875 \nL 52.59375 62.3125 \nQ 48.875 64.0625 45.09375 64.984375 \nQ 41.3125 65.921875 37.59375 65.921875 \nQ 27.828125 65.921875 22.671875 59.328125 \nQ 17.53125 52.734375 16.796875 39.40625 \nQ 19.671875 43.65625 24.015625 45.921875 \nQ 28.375 48.1875 33.59375 48.1875 \nQ 44.578125 48.1875 50.953125 41.515625 \nQ 57.328125 34.859375 57.328125 23.390625 \nQ 57.328125 12.15625 50.6875 5.359375 \nQ 44.046875 -1.421875 33.015625 -1.421875 \nQ 20.359375 -1.421875 13.671875 8.265625 \nQ 6.984375 17.96875 6.984375 36.375 \nQ 6.984375 53.65625 15.1875 63.9375 \nQ 23.390625 74.21875 37.203125 74.21875 \nQ 40.921875 74.21875 44.703125 73.484375 \nQ 48.484375 72.75 52.59375 71.296875 \nz\n\" id=\"DejaVuSans-54\"/>\n       </defs>\n       <use xlink:href=\"#DejaVuSans-54\"/>\n       <use x=\"63.623047\" xlink:href=\"#DejaVuSans-48\"/>\n      </g>\n     </g>\n    </g>\n    <g id=\"xtick_5\">\n     <g id=\"line2d_5\">\n      <g>\n       <use style=\"stroke:#000000;stroke-width:0.8;\" x=\"479.113822\" xlink:href=\"#m48cafd9970\" y=\"442.08\"/>\n      </g>\n     </g>\n     <g id=\"text_5\">\n      <!-- 80 -->\n      <g transform=\"translate(472.751322 456.678437)scale(0.1 -0.1)\">\n       <defs>\n        <path d=\"M 31.78125 34.625 \nQ 24.75 34.625 20.71875 30.859375 \nQ 16.703125 27.09375 16.703125 20.515625 \nQ 16.703125 13.921875 20.71875 10.15625 \nQ 24.75 6.390625 31.78125 6.390625 \nQ 38.8125 6.390625 42.859375 10.171875 \nQ 46.921875 13.96875 46.921875 20.515625 \nQ 46.921875 27.09375 42.890625 30.859375 \nQ 38.875 34.625 31.78125 34.625 \nz\nM 21.921875 38.8125 \nQ 15.578125 40.375 12.03125 44.71875 \nQ 8.5 49.078125 8.5 55.328125 \nQ 8.5 64.0625 14.71875 69.140625 \nQ 20.953125 74.21875 31.78125 74.21875 \nQ 42.671875 74.21875 48.875 69.140625 \nQ 55.078125 64.0625 55.078125 55.328125 \nQ 55.078125 49.078125 51.53125 44.71875 \nQ 48 40.375 41.703125 38.8125 \nQ 48.828125 37.15625 52.796875 32.3125 \nQ 56.78125 27.484375 56.78125 20.515625 \nQ 56.78125 9.90625 50.3125 4.234375 \nQ 43.84375 -1.421875 31.78125 -1.421875 \nQ 19.734375 -1.421875 13.25 4.234375 \nQ 6.78125 9.90625 6.78125 20.515625 \nQ 6.78125 27.484375 10.78125 32.3125 \nQ 14.796875 37.15625 21.921875 38.8125 \nz\nM 18.3125 54.390625 \nQ 18.3125 48.734375 21.84375 45.5625 \nQ 25.390625 42.390625 31.78125 42.390625 \nQ 38.140625 42.390625 41.71875 45.5625 \nQ 45.3125 48.734375 45.3125 54.390625 \nQ 45.3125 60.0625 41.71875 63.234375 \nQ 38.140625 66.40625 31.78125 66.40625 \nQ 25.390625 66.40625 21.84375 63.234375 \nQ 18.3125 60.0625 18.3125 54.390625 \nz\n\" id=\"DejaVuSans-56\"/>\n       </defs>\n       <use xlink:href=\"#DejaVuSans-56\"/>\n       <use x=\"63.623047\" xlink:href=\"#DejaVuSans-48\"/>\n      </g>\n     </g>\n    </g>\n    <g id=\"xtick_6\">\n     <g id=\"line2d_6\">\n      <g>\n       <use style=\"stroke:#000000;stroke-width:0.8;\" x=\"582.638868\" xlink:href=\"#m48cafd9970\" y=\"442.08\"/>\n      </g>\n     </g>\n     <g id=\"text_6\">\n      <!-- 100 -->\n      <g transform=\"translate(573.095118 456.678437)scale(0.1 -0.1)\">\n       <defs>\n        <path d=\"M 12.40625 8.296875 \nL 28.515625 8.296875 \nL 28.515625 63.921875 \nL 10.984375 60.40625 \nL 10.984375 69.390625 \nL 28.421875 72.90625 \nL 38.28125 72.90625 \nL 38.28125 8.296875 \nL 54.390625 8.296875 \nL 54.390625 0 \nL 12.40625 0 \nz\n\" id=\"DejaVuSans-49\"/>\n       </defs>\n       <use xlink:href=\"#DejaVuSans-49\"/>\n       <use x=\"63.623047\" xlink:href=\"#DejaVuSans-48\"/>\n       <use x=\"127.246094\" xlink:href=\"#DejaVuSans-48\"/>\n      </g>\n     </g>\n    </g>\n   </g>\n   <g id=\"matplotlib.axis_2\">\n    <g id=\"ytick_1\">\n     <g id=\"line2d_7\">\n      <defs>\n       <path d=\"M 0 0 \nL -3.5 0 \n\" id=\"ma166aaf8f2\" style=\"stroke:#000000;stroke-width:0.8;\"/>\n      </defs>\n      <g>\n       <use style=\"stroke:#000000;stroke-width:0.8;\" x=\"39.65\" xlink:href=\"#ma166aaf8f2\" y=\"422.331118\"/>\n      </g>\n     </g>\n     <g id=\"text_7\">\n      <!-- 0 -->\n      <g transform=\"translate(26.2875 426.130337)scale(0.1 -0.1)\">\n       <use xlink:href=\"#DejaVuSans-48\"/>\n      </g>\n     </g>\n    </g>\n    <g id=\"ytick_2\">\n     <g id=\"line2d_8\">\n      <g>\n       <use style=\"stroke:#000000;stroke-width:0.8;\" x=\"39.65\" xlink:href=\"#ma166aaf8f2\" y=\"356.80285\"/>\n      </g>\n     </g>\n     <g id=\"text_8\">\n      <!-- 200 -->\n      <g transform=\"translate(13.5625 360.602068)scale(0.1 -0.1)\">\n       <use xlink:href=\"#DejaVuSans-50\"/>\n       <use x=\"63.623047\" xlink:href=\"#DejaVuSans-48\"/>\n       <use x=\"127.246094\" xlink:href=\"#DejaVuSans-48\"/>\n      </g>\n     </g>\n    </g>\n    <g id=\"ytick_3\">\n     <g id=\"line2d_9\">\n      <g>\n       <use style=\"stroke:#000000;stroke-width:0.8;\" x=\"39.65\" xlink:href=\"#ma166aaf8f2\" y=\"291.274581\"/>\n      </g>\n     </g>\n     <g id=\"text_9\">\n      <!-- 400 -->\n      <g transform=\"translate(13.5625 295.0738)scale(0.1 -0.1)\">\n       <use xlink:href=\"#DejaVuSans-52\"/>\n       <use x=\"63.623047\" xlink:href=\"#DejaVuSans-48\"/>\n       <use x=\"127.246094\" xlink:href=\"#DejaVuSans-48\"/>\n      </g>\n     </g>\n    </g>\n    <g id=\"ytick_4\">\n     <g id=\"line2d_10\">\n      <g>\n       <use style=\"stroke:#000000;stroke-width:0.8;\" x=\"39.65\" xlink:href=\"#ma166aaf8f2\" y=\"225.746313\"/>\n      </g>\n     </g>\n     <g id=\"text_10\">\n      <!-- 600 -->\n      <g transform=\"translate(13.5625 229.545531)scale(0.1 -0.1)\">\n       <use xlink:href=\"#DejaVuSans-54\"/>\n       <use x=\"63.623047\" xlink:href=\"#DejaVuSans-48\"/>\n       <use x=\"127.246094\" xlink:href=\"#DejaVuSans-48\"/>\n      </g>\n     </g>\n    </g>\n    <g id=\"ytick_5\">\n     <g id=\"line2d_11\">\n      <g>\n       <use style=\"stroke:#000000;stroke-width:0.8;\" x=\"39.65\" xlink:href=\"#ma166aaf8f2\" y=\"160.218044\"/>\n      </g>\n     </g>\n     <g id=\"text_11\">\n      <!-- 800 -->\n      <g transform=\"translate(13.5625 164.017263)scale(0.1 -0.1)\">\n       <use xlink:href=\"#DejaVuSans-56\"/>\n       <use x=\"63.623047\" xlink:href=\"#DejaVuSans-48\"/>\n       <use x=\"127.246094\" xlink:href=\"#DejaVuSans-48\"/>\n      </g>\n     </g>\n    </g>\n    <g id=\"ytick_6\">\n     <g id=\"line2d_12\">\n      <g>\n       <use style=\"stroke:#000000;stroke-width:0.8;\" x=\"39.65\" xlink:href=\"#ma166aaf8f2\" y=\"94.689776\"/>\n      </g>\n     </g>\n     <g id=\"text_12\">\n      <!-- 1000 -->\n      <g transform=\"translate(7.2 98.488994)scale(0.1 -0.1)\">\n       <use xlink:href=\"#DejaVuSans-49\"/>\n       <use x=\"63.623047\" xlink:href=\"#DejaVuSans-48\"/>\n       <use x=\"127.246094\" xlink:href=\"#DejaVuSans-48\"/>\n       <use x=\"190.869141\" xlink:href=\"#DejaVuSans-48\"/>\n      </g>\n     </g>\n    </g>\n    <g id=\"ytick_7\">\n     <g id=\"line2d_13\">\n      <g>\n       <use style=\"stroke:#000000;stroke-width:0.8;\" x=\"39.65\" xlink:href=\"#ma166aaf8f2\" y=\"29.161507\"/>\n      </g>\n     </g>\n     <g id=\"text_13\">\n      <!-- 1200 -->\n      <g transform=\"translate(7.2 32.960726)scale(0.1 -0.1)\">\n       <use xlink:href=\"#DejaVuSans-49\"/>\n       <use x=\"63.623047\" xlink:href=\"#DejaVuSans-50\"/>\n       <use x=\"127.246094\" xlink:href=\"#DejaVuSans-48\"/>\n       <use x=\"190.869141\" xlink:href=\"#DejaVuSans-48\"/>\n      </g>\n     </g>\n    </g>\n   </g>\n   <g id=\"line2d_14\">\n    <path clip-path=\"url(#pffdd051ac6)\" d=\"M 65.013636 422.296989 \nL 70.189889 422.202642 \nL 75.366141 421.996688 \nL 80.542393 421.737842 \nL 85.718646 421.344601 \nL 90.894898 421.097143 \nL 96.07115 420.664428 \nL 101.247403 420.261046 \nL 106.423655 419.779446 \nL 111.599907 418.462859 \nL 116.77616 418.583609 \nL 121.952412 417.547692 \nL 127.128664 416.826219 \nL 132.304917 415.752321 \nL 137.481169 414.14871 \nL 142.657421 411.149339 \nL 147.833673 408.182394 \nL 153.009926 406.887778 \nL 158.186178 405.146312 \nL 163.36243 403.184349 \nL 168.538683 400.910825 \nL 173.714935 401.395937 \nL 178.891187 398.074134 \nL 184.06744 396.806896 \nL 189.243692 398.993756 \nL 194.419944 367.761987 \nL 199.596197 367.099831 \nL 204.772449 390.262866 \nL 209.948701 380.592568 \nL 215.124954 379.619046 \nL 220.301206 373.194161 \nL 225.477458 377.562635 \nL 230.653711 367.062196 \nL 235.829963 371.288484 \nL 241.006215 379.643173 \nL 246.182468 382.822835 \nL 251.35872 379.074962 \nL 256.534972 378.461604 \nL 261.711224 376.031532 \nL 266.887477 373.276049 \nL 272.063729 371.062618 \nL 277.239981 366.587157 \nL 282.416234 362.726184 \nL 287.592486 363.32287 \nL 292.768738 358.588668 \nL 297.944991 357.319231 \nL 303.121243 354.234257 \nL 308.297495 352.284596 \nL 313.473748 346.219466 \nL 318.65 345.782217 \nL 323.826252 342.482719 \nL 329.002505 339.146337 \nL 334.178757 330.999402 \nL 339.355009 330.381587 \nL 344.531262 328.567985 \nL 349.707514 326.038114 \nL 354.883766 316.500627 \nL 360.060019 318.023637 \nL 365.236271 310.610048 \nL 370.412523 307.739395 \nL 375.588776 300.576774 \nL 380.765028 303.426099 \nL 385.94128 297.63969 \nL 391.117532 295.041237 \nL 396.293785 290.630181 \nL 401.470037 285.726658 \nL 406.646289 279.207467 \nL 411.822542 277.764069 \nL 416.998794 273.473404 \nL 422.175046 269.886579 \nL 427.351299 262.622765 \nL 432.527551 253.62136 \nL 437.703803 224.585946 \nL 442.880056 220.636447 \nL 448.056308 219.817672 \nL 453.23256 214.527564 \nL 458.408813 195.381472 \nL 463.585065 204.596457 \nL 468.761317 191.815672 \nL 473.93757 179.677937 \nL 479.113822 175.378804 \nL 484.290074 156.823802 \nL 489.466327 165.574831 \nL 494.642579 161.616819 \nL 499.818831 143.05134 \nL 504.995083 153.68042 \nL 510.171336 132.290993 \nL 515.347588 130.404443 \nL 520.52384 106.776165 \nL 525.700093 103.785782 \nL 530.876345 103.00579 \nL 536.052597 108.922738 \nL 541.22885 86.473718 \nL 546.405102 83.876382 \nL 551.581354 66.574951 \nL 556.757607 65.02806 \nL 561.933859 58.458241 \nL 567.110111 26.967273 \nL 572.286364 38.321424 \n\" style=\"fill:none;stroke:#1f77b4;stroke-linecap:square;stroke-width:1.5;\"/>\n   </g>\n   <g id=\"line2d_15\">\n    <path clip-path=\"url(#pffdd051ac6)\" d=\"M 65.013636 422.299915 \nL 70.189889 422.192072 \nL 75.366141 421.948026 \nL 80.542393 421.662938 \nL 85.718646 421.405579 \nL 90.894898 421.019839 \nL 96.07115 420.712121 \nL 101.247403 420.319541 \nL 106.423655 419.774575 \nL 111.599907 418.779303 \nL 116.77616 418.685166 \nL 121.952412 417.706136 \nL 127.128664 416.794352 \nL 132.304917 415.984895 \nL 137.481169 413.399151 \nL 142.657421 412.938831 \nL 147.833673 407.487571 \nL 153.009926 406.602511 \nL 158.186178 404.278199 \nL 163.36243 404.288612 \nL 168.538683 401.660273 \nL 173.714935 399.141159 \nL 178.891187 398.795017 \nL 184.06744 404.269882 \nL 189.243692 381.715897 \nL 194.419944 365.683433 \nL 199.596197 372.65163 \nL 204.772449 386.50344 \nL 209.948701 363.579081 \nL 215.124954 381.371514 \nL 220.301206 385.082845 \nL 225.477458 377.878314 \nL 230.653711 371.699588 \nL 235.829963 371.583732 \nL 241.006215 385.331548 \nL 246.182468 382.9376 \nL 251.35872 380.504731 \nL 256.534972 378.276053 \nL 261.711224 376.030909 \nL 266.887477 373.379989 \nL 272.063729 370.913018 \nL 277.239981 368.383929 \nL 282.416234 363.5981 \nL 287.592486 363.378083 \nL 292.768738 360.516378 \nL 297.944991 357.874219 \nL 303.121243 351.390561 \nL 308.297495 352.078023 \nL 313.473748 348.682657 \nL 318.65 346.037681 \nL 323.826252 342.43147 \nL 329.002505 339.71295 \nL 334.178757 332.997181 \nL 339.355009 333.186493 \nL 344.531262 328.911066 \nL 349.707514 326.032561 \nL 354.883766 319.295009 \nL 360.060019 318.568686 \nL 365.236271 314.502487 \nL 370.412523 311.016894 \nL 375.588776 307.342303 \nL 380.765028 303.209714 \nL 385.94128 298.319566 \nL 391.117532 295.268874 \nL 396.293785 291.049437 \nL 401.470037 286.496695 \nL 406.646289 282.799982 \nL 411.822542 276.534598 \nL 416.998794 273.781404 \nL 422.175046 268.974103 \nL 427.351299 262.385896 \nL 432.527551 248.462527 \nL 437.703803 230.378542 \nL 442.880056 232.00935 \nL 448.056308 218.751535 \nL 453.23256 211.288249 \nL 458.408813 198.250324 \nL 463.585065 200.415536 \nL 468.761317 191.849763 \nL 473.93757 183.924106 \nL 479.113822 177.171264 \nL 484.290074 163.258262 \nL 489.466327 161.667259 \nL 494.642579 157.71892 \nL 499.818831 149.060611 \nL 504.995083 144.781116 \nL 510.171336 132.42243 \nL 515.347588 126.579021 \nL 520.52384 101.923207 \nL 525.700093 111.378231 \nL 530.876345 99.748421 \nL 536.052597 95.028813 \nL 541.22885 84.639811 \nL 546.405102 79.011825 \nL 551.581354 44.367547 \nL 556.757607 61.741186 \nL 561.933859 49.596289 \nL 567.110111 35.756229 \nL 572.286364 30.598642 \n\" style=\"fill:none;stroke:#ff7f0e;stroke-linecap:square;stroke-width:1.5;\"/>\n   </g>\n   <g id=\"line2d_16\">\n    <path clip-path=\"url(#pffdd051ac6)\" d=\"M 65.013636 422.312727 \nL 70.189889 422.239547 \nL 75.366141 422.121005 \nL 80.542393 421.955086 \nL 85.718646 421.797939 \nL 90.894898 421.544914 \nL 96.07115 421.341258 \nL 101.247403 421.049959 \nL 106.423655 420.716631 \nL 111.599907 419.997271 \nL 116.77616 419.814712 \nL 121.952412 419.477064 \nL 127.128664 419.111631 \nL 132.304917 418.074835 \nL 137.481169 416.820461 \nL 142.657421 416.507502 \nL 147.833673 414.246857 \nL 153.009926 413.332718 \nL 158.186178 412.39073 \nL 163.36243 412.095064 \nL 168.538683 410.822871 \nL 173.714935 409.771442 \nL 178.891187 408.350321 \nL 184.06744 411.182394 \nL 189.243692 395.287841 \nL 194.419944 391.356078 \nL 199.596197 405.612694 \nL 204.772449 400.54676 \nL 209.948701 397.473335 \nL 215.124954 403.147103 \nL 220.301206 394.13632 \nL 225.477458 394.786665 \nL 230.653711 392.637909 \nL 235.829963 391.272772 \nL 241.006215 398.670085 \nL 246.182468 397.3663 \nL 251.35872 396.072088 \nL 256.534972 394.524485 \nL 261.711224 393.039007 \nL 266.887477 391.485209 \nL 272.063729 389.908672 \nL 277.239981 388.483918 \nL 282.416234 385.750032 \nL 287.592486 385.115025 \nL 292.768738 383.23913 \nL 297.944991 381.572247 \nL 303.121243 379.391708 \nL 308.297495 377.93342 \nL 313.473748 374.691375 \nL 318.65 374.165247 \nL 323.826252 372.130484 \nL 329.002505 370.088325 \nL 334.178757 367.92092 \nL 339.355009 366.089302 \nL 344.531262 363.638669 \nL 349.707514 359.668311 \nL 354.883766 356.777302 \nL 360.060019 354.818288 \nL 365.236271 354.874533 \nL 370.412523 352.709688 \nL 375.588776 350.01809 \nL 380.765028 347.57267 \nL 385.94128 342.663566 \nL 391.117532 342.760212 \nL 396.293785 340.139683 \nL 401.470037 337.748334 \nL 406.646289 335.147239 \nL 411.822542 332.388181 \nL 416.998794 328.402186 \nL 422.175046 326.498927 \nL 427.351299 323.707767 \nL 432.527551 303.339951 \nL 437.703803 308.828813 \nL 442.880056 306.118734 \nL 448.056308 295.618134 \nL 453.23256 297.625021 \nL 458.408813 293.180523 \nL 463.585065 290.300027 \nL 468.761317 285.285027 \nL 473.93757 281.690097 \nL 479.113822 276.726282 \nL 484.290074 273.426879 \nL 489.466327 268.810848 \nL 494.642579 265.34916 \nL 499.818831 259.324486 \nL 504.995083 256.84641 \nL 510.171336 252.132218 \nL 515.347588 247.589376 \nL 520.52384 234.70674 \nL 525.700093 238.825067 \nL 530.876345 232.122794 \nL 536.052597 229.341768 \nL 541.22885 222.762374 \nL 546.405102 219.500757 \nL 551.581354 211.527752 \nL 556.757607 209.58136 \nL 561.933859 201.94357 \nL 567.110111 199.520066 \nL 572.286364 184.26532 \n\" style=\"fill:none;stroke:#2ca02c;stroke-linecap:square;stroke-width:1.5;\"/>\n   </g>\n   <g id=\"patch_3\">\n    <path d=\"M 39.65 442.08 \nL 39.65 7.2 \n\" style=\"fill:none;stroke:#000000;stroke-linecap:square;stroke-linejoin:miter;stroke-width:0.8;\"/>\n   </g>\n   <g id=\"patch_4\">\n    <path d=\"M 597.65 442.08 \nL 597.65 7.2 \n\" style=\"fill:none;stroke:#000000;stroke-linecap:square;stroke-linejoin:miter;stroke-width:0.8;\"/>\n   </g>\n   <g id=\"patch_5\">\n    <path d=\"M 39.65 442.08 \nL 597.65 442.08 \n\" style=\"fill:none;stroke:#000000;stroke-linecap:square;stroke-linejoin:miter;stroke-width:0.8;\"/>\n   </g>\n   <g id=\"patch_6\">\n    <path d=\"M 39.65 7.2 \nL 597.65 7.2 \n\" style=\"fill:none;stroke:#000000;stroke-linecap:square;stroke-linejoin:miter;stroke-width:0.8;\"/>\n   </g>\n   <g id=\"legend_1\">\n    <g id=\"patch_7\">\n     <path d=\"M 46.65 60.06875 \nL 166.384375 60.06875 \nQ 168.384375 60.06875 168.384375 58.06875 \nL 168.384375 14.2 \nQ 168.384375 12.2 166.384375 12.2 \nL 46.65 12.2 \nQ 44.65 12.2 44.65 14.2 \nL 44.65 58.06875 \nQ 44.65 60.06875 46.65 60.06875 \nz\n\" style=\"fill:#ffffff;opacity:0.8;stroke:#cccccc;stroke-linejoin:miter;\"/>\n    </g>\n    <g id=\"line2d_17\">\n     <path d=\"M 48.65 20.298437 \nL 68.65 20.298437 \n\" style=\"fill:none;stroke:#1f77b4;stroke-linecap:square;stroke-width:1.5;\"/>\n    </g>\n    <g id=\"line2d_18\"/>\n    <g id=\"text_14\">\n     <!-- time_sort -->\n     <g transform=\"translate(76.65 23.798437)scale(0.1 -0.1)\">\n      <defs>\n       <path d=\"M 18.3125 70.21875 \nL 18.3125 54.6875 \nL 36.8125 54.6875 \nL 36.8125 47.703125 \nL 18.3125 47.703125 \nL 18.3125 18.015625 \nQ 18.3125 11.328125 20.140625 9.421875 \nQ 21.96875 7.515625 27.59375 7.515625 \nL 36.8125 7.515625 \nL 36.8125 0 \nL 27.59375 0 \nQ 17.1875 0 13.234375 3.875 \nQ 9.28125 7.765625 9.28125 18.015625 \nL 9.28125 47.703125 \nL 2.6875 47.703125 \nL 2.6875 54.6875 \nL 9.28125 54.6875 \nL 9.28125 70.21875 \nz\n\" id=\"DejaVuSans-116\"/>\n       <path d=\"M 9.421875 54.6875 \nL 18.40625 54.6875 \nL 18.40625 0 \nL 9.421875 0 \nz\nM 9.421875 75.984375 \nL 18.40625 75.984375 \nL 18.40625 64.59375 \nL 9.421875 64.59375 \nz\n\" id=\"DejaVuSans-105\"/>\n       <path d=\"M 52 44.1875 \nQ 55.375 50.25 60.0625 53.125 \nQ 64.75 56 71.09375 56 \nQ 79.640625 56 84.28125 50.015625 \nQ 88.921875 44.046875 88.921875 33.015625 \nL 88.921875 0 \nL 79.890625 0 \nL 79.890625 32.71875 \nQ 79.890625 40.578125 77.09375 44.375 \nQ 74.3125 48.1875 68.609375 48.1875 \nQ 61.625 48.1875 57.5625 43.546875 \nQ 53.515625 38.921875 53.515625 30.90625 \nL 53.515625 0 \nL 44.484375 0 \nL 44.484375 32.71875 \nQ 44.484375 40.625 41.703125 44.40625 \nQ 38.921875 48.1875 33.109375 48.1875 \nQ 26.21875 48.1875 22.15625 43.53125 \nQ 18.109375 38.875 18.109375 30.90625 \nL 18.109375 0 \nL 9.078125 0 \nL 9.078125 54.6875 \nL 18.109375 54.6875 \nL 18.109375 46.1875 \nQ 21.1875 51.21875 25.484375 53.609375 \nQ 29.78125 56 35.6875 56 \nQ 41.65625 56 45.828125 52.96875 \nQ 50 49.953125 52 44.1875 \nz\n\" id=\"DejaVuSans-109\"/>\n       <path d=\"M 56.203125 29.59375 \nL 56.203125 25.203125 \nL 14.890625 25.203125 \nQ 15.484375 15.921875 20.484375 11.0625 \nQ 25.484375 6.203125 34.421875 6.203125 \nQ 39.59375 6.203125 44.453125 7.46875 \nQ 49.3125 8.734375 54.109375 11.28125 \nL 54.109375 2.78125 \nQ 49.265625 0.734375 44.1875 -0.34375 \nQ 39.109375 -1.421875 33.890625 -1.421875 \nQ 20.796875 -1.421875 13.15625 6.1875 \nQ 5.515625 13.8125 5.515625 26.8125 \nQ 5.515625 40.234375 12.765625 48.109375 \nQ 20.015625 56 32.328125 56 \nQ 43.359375 56 49.78125 48.890625 \nQ 56.203125 41.796875 56.203125 29.59375 \nz\nM 47.21875 32.234375 \nQ 47.125 39.59375 43.09375 43.984375 \nQ 39.0625 48.390625 32.421875 48.390625 \nQ 24.90625 48.390625 20.390625 44.140625 \nQ 15.875 39.890625 15.1875 32.171875 \nz\n\" id=\"DejaVuSans-101\"/>\n       <path d=\"M 50.984375 -16.609375 \nL 50.984375 -23.578125 \nL -0.984375 -23.578125 \nL -0.984375 -16.609375 \nz\n\" id=\"DejaVuSans-95\"/>\n       <path d=\"M 44.28125 53.078125 \nL 44.28125 44.578125 \nQ 40.484375 46.53125 36.375 47.5 \nQ 32.28125 48.484375 27.875 48.484375 \nQ 21.1875 48.484375 17.84375 46.4375 \nQ 14.5 44.390625 14.5 40.28125 \nQ 14.5 37.15625 16.890625 35.375 \nQ 19.28125 33.59375 26.515625 31.984375 \nL 29.59375 31.296875 \nQ 39.15625 29.25 43.1875 25.515625 \nQ 47.21875 21.78125 47.21875 15.09375 \nQ 47.21875 7.46875 41.1875 3.015625 \nQ 35.15625 -1.421875 24.609375 -1.421875 \nQ 20.21875 -1.421875 15.453125 -0.5625 \nQ 10.6875 0.296875 5.421875 2 \nL 5.421875 11.28125 \nQ 10.40625 8.6875 15.234375 7.390625 \nQ 20.0625 6.109375 24.8125 6.109375 \nQ 31.15625 6.109375 34.5625 8.28125 \nQ 37.984375 10.453125 37.984375 14.40625 \nQ 37.984375 18.0625 35.515625 20.015625 \nQ 33.0625 21.96875 24.703125 23.78125 \nL 21.578125 24.515625 \nQ 13.234375 26.265625 9.515625 29.90625 \nQ 5.8125 33.546875 5.8125 39.890625 \nQ 5.8125 47.609375 11.28125 51.796875 \nQ 16.75 56 26.8125 56 \nQ 31.78125 56 36.171875 55.265625 \nQ 40.578125 54.546875 44.28125 53.078125 \nz\n\" id=\"DejaVuSans-115\"/>\n       <path d=\"M 30.609375 48.390625 \nQ 23.390625 48.390625 19.1875 42.75 \nQ 14.984375 37.109375 14.984375 27.296875 \nQ 14.984375 17.484375 19.15625 11.84375 \nQ 23.34375 6.203125 30.609375 6.203125 \nQ 37.796875 6.203125 41.984375 11.859375 \nQ 46.1875 17.53125 46.1875 27.296875 \nQ 46.1875 37.015625 41.984375 42.703125 \nQ 37.796875 48.390625 30.609375 48.390625 \nz\nM 30.609375 56 \nQ 42.328125 56 49.015625 48.375 \nQ 55.71875 40.765625 55.71875 27.296875 \nQ 55.71875 13.875 49.015625 6.21875 \nQ 42.328125 -1.421875 30.609375 -1.421875 \nQ 18.84375 -1.421875 12.171875 6.21875 \nQ 5.515625 13.875 5.515625 27.296875 \nQ 5.515625 40.765625 12.171875 48.375 \nQ 18.84375 56 30.609375 56 \nz\n\" id=\"DejaVuSans-111\"/>\n       <path d=\"M 41.109375 46.296875 \nQ 39.59375 47.171875 37.8125 47.578125 \nQ 36.03125 48 33.890625 48 \nQ 26.265625 48 22.1875 43.046875 \nQ 18.109375 38.09375 18.109375 28.8125 \nL 18.109375 0 \nL 9.078125 0 \nL 9.078125 54.6875 \nL 18.109375 54.6875 \nL 18.109375 46.1875 \nQ 20.953125 51.171875 25.484375 53.578125 \nQ 30.03125 56 36.53125 56 \nQ 37.453125 56 38.578125 55.875 \nQ 39.703125 55.765625 41.0625 55.515625 \nz\n\" id=\"DejaVuSans-114\"/>\n      </defs>\n      <use xlink:href=\"#DejaVuSans-116\"/>\n      <use x=\"39.208984\" xlink:href=\"#DejaVuSans-105\"/>\n      <use x=\"66.992188\" xlink:href=\"#DejaVuSans-109\"/>\n      <use x=\"164.404297\" xlink:href=\"#DejaVuSans-101\"/>\n      <use x=\"225.927734\" xlink:href=\"#DejaVuSans-95\"/>\n      <use x=\"275.927734\" xlink:href=\"#DejaVuSans-115\"/>\n      <use x=\"328.027344\" xlink:href=\"#DejaVuSans-111\"/>\n      <use x=\"389.208984\" xlink:href=\"#DejaVuSans-114\"/>\n      <use x=\"430.322266\" xlink:href=\"#DejaVuSans-116\"/>\n     </g>\n    </g>\n    <g id=\"line2d_19\">\n     <path d=\"M 48.65 35.254687 \nL 68.65 35.254687 \n\" style=\"fill:none;stroke:#ff7f0e;stroke-linecap:square;stroke-width:1.5;\"/>\n    </g>\n    <g id=\"line2d_20\"/>\n    <g id=\"text_15\">\n     <!-- time_swap_check -->\n     <g transform=\"translate(76.65 38.754687)scale(0.1 -0.1)\">\n      <defs>\n       <path d=\"M 4.203125 54.6875 \nL 13.1875 54.6875 \nL 24.421875 12.015625 \nL 35.59375 54.6875 \nL 46.1875 54.6875 \nL 57.421875 12.015625 \nL 68.609375 54.6875 \nL 77.59375 54.6875 \nL 63.28125 0 \nL 52.6875 0 \nL 40.921875 44.828125 \nL 29.109375 0 \nL 18.5 0 \nz\n\" id=\"DejaVuSans-119\"/>\n       <path d=\"M 34.28125 27.484375 \nQ 23.390625 27.484375 19.1875 25 \nQ 14.984375 22.515625 14.984375 16.5 \nQ 14.984375 11.71875 18.140625 8.90625 \nQ 21.296875 6.109375 26.703125 6.109375 \nQ 34.1875 6.109375 38.703125 11.40625 \nQ 43.21875 16.703125 43.21875 25.484375 \nL 43.21875 27.484375 \nz\nM 52.203125 31.203125 \nL 52.203125 0 \nL 43.21875 0 \nL 43.21875 8.296875 \nQ 40.140625 3.328125 35.546875 0.953125 \nQ 30.953125 -1.421875 24.3125 -1.421875 \nQ 15.921875 -1.421875 10.953125 3.296875 \nQ 6 8.015625 6 15.921875 \nQ 6 25.140625 12.171875 29.828125 \nQ 18.359375 34.515625 30.609375 34.515625 \nL 43.21875 34.515625 \nL 43.21875 35.40625 \nQ 43.21875 41.609375 39.140625 45 \nQ 35.0625 48.390625 27.6875 48.390625 \nQ 23 48.390625 18.546875 47.265625 \nQ 14.109375 46.140625 10.015625 43.890625 \nL 10.015625 52.203125 \nQ 14.9375 54.109375 19.578125 55.046875 \nQ 24.21875 56 28.609375 56 \nQ 40.484375 56 46.34375 49.84375 \nQ 52.203125 43.703125 52.203125 31.203125 \nz\n\" id=\"DejaVuSans-97\"/>\n       <path d=\"M 18.109375 8.203125 \nL 18.109375 -20.796875 \nL 9.078125 -20.796875 \nL 9.078125 54.6875 \nL 18.109375 54.6875 \nL 18.109375 46.390625 \nQ 20.953125 51.265625 25.265625 53.625 \nQ 29.59375 56 35.59375 56 \nQ 45.5625 56 51.78125 48.09375 \nQ 58.015625 40.1875 58.015625 27.296875 \nQ 58.015625 14.40625 51.78125 6.484375 \nQ 45.5625 -1.421875 35.59375 -1.421875 \nQ 29.59375 -1.421875 25.265625 0.953125 \nQ 20.953125 3.328125 18.109375 8.203125 \nz\nM 48.6875 27.296875 \nQ 48.6875 37.203125 44.609375 42.84375 \nQ 40.53125 48.484375 33.40625 48.484375 \nQ 26.265625 48.484375 22.1875 42.84375 \nQ 18.109375 37.203125 18.109375 27.296875 \nQ 18.109375 17.390625 22.1875 11.75 \nQ 26.265625 6.109375 33.40625 6.109375 \nQ 40.53125 6.109375 44.609375 11.75 \nQ 48.6875 17.390625 48.6875 27.296875 \nz\n\" id=\"DejaVuSans-112\"/>\n       <path d=\"M 48.78125 52.59375 \nL 48.78125 44.1875 \nQ 44.96875 46.296875 41.140625 47.34375 \nQ 37.3125 48.390625 33.40625 48.390625 \nQ 24.65625 48.390625 19.8125 42.84375 \nQ 14.984375 37.3125 14.984375 27.296875 \nQ 14.984375 17.28125 19.8125 11.734375 \nQ 24.65625 6.203125 33.40625 6.203125 \nQ 37.3125 6.203125 41.140625 7.25 \nQ 44.96875 8.296875 48.78125 10.40625 \nL 48.78125 2.09375 \nQ 45.015625 0.34375 40.984375 -0.53125 \nQ 36.96875 -1.421875 32.421875 -1.421875 \nQ 20.0625 -1.421875 12.78125 6.34375 \nQ 5.515625 14.109375 5.515625 27.296875 \nQ 5.515625 40.671875 12.859375 48.328125 \nQ 20.21875 56 33.015625 56 \nQ 37.15625 56 41.109375 55.140625 \nQ 45.0625 54.296875 48.78125 52.59375 \nz\n\" id=\"DejaVuSans-99\"/>\n       <path d=\"M 54.890625 33.015625 \nL 54.890625 0 \nL 45.90625 0 \nL 45.90625 32.71875 \nQ 45.90625 40.484375 42.875 44.328125 \nQ 39.84375 48.1875 33.796875 48.1875 \nQ 26.515625 48.1875 22.3125 43.546875 \nQ 18.109375 38.921875 18.109375 30.90625 \nL 18.109375 0 \nL 9.078125 0 \nL 9.078125 75.984375 \nL 18.109375 75.984375 \nL 18.109375 46.1875 \nQ 21.34375 51.125 25.703125 53.5625 \nQ 30.078125 56 35.796875 56 \nQ 45.21875 56 50.046875 50.171875 \nQ 54.890625 44.34375 54.890625 33.015625 \nz\n\" id=\"DejaVuSans-104\"/>\n       <path d=\"M 9.078125 75.984375 \nL 18.109375 75.984375 \nL 18.109375 31.109375 \nL 44.921875 54.6875 \nL 56.390625 54.6875 \nL 27.390625 29.109375 \nL 57.625 0 \nL 45.90625 0 \nL 18.109375 26.703125 \nL 18.109375 0 \nL 9.078125 0 \nz\n\" id=\"DejaVuSans-107\"/>\n      </defs>\n      <use xlink:href=\"#DejaVuSans-116\"/>\n      <use x=\"39.208984\" xlink:href=\"#DejaVuSans-105\"/>\n      <use x=\"66.992188\" xlink:href=\"#DejaVuSans-109\"/>\n      <use x=\"164.404297\" xlink:href=\"#DejaVuSans-101\"/>\n      <use x=\"225.927734\" xlink:href=\"#DejaVuSans-95\"/>\n      <use x=\"275.927734\" xlink:href=\"#DejaVuSans-115\"/>\n      <use x=\"328.027344\" xlink:href=\"#DejaVuSans-119\"/>\n      <use x=\"409.814453\" xlink:href=\"#DejaVuSans-97\"/>\n      <use x=\"471.09375\" xlink:href=\"#DejaVuSans-112\"/>\n      <use x=\"534.570312\" xlink:href=\"#DejaVuSans-95\"/>\n      <use x=\"584.570312\" xlink:href=\"#DejaVuSans-99\"/>\n      <use x=\"639.550781\" xlink:href=\"#DejaVuSans-104\"/>\n      <use x=\"702.929688\" xlink:href=\"#DejaVuSans-101\"/>\n      <use x=\"764.453125\" xlink:href=\"#DejaVuSans-99\"/>\n      <use x=\"819.433594\" xlink:href=\"#DejaVuSans-107\"/>\n     </g>\n    </g>\n    <g id=\"line2d_21\">\n     <path d=\"M 48.65 50.210937 \nL 68.65 50.210937 \n\" style=\"fill:none;stroke:#2ca02c;stroke-linecap:square;stroke-width:1.5;\"/>\n    </g>\n    <g id=\"line2d_22\"/>\n    <g id=\"text_16\">\n     <!-- time_optimize -->\n     <g transform=\"translate(76.65 53.710937)scale(0.1 -0.1)\">\n      <defs>\n       <path d=\"M 5.515625 54.6875 \nL 48.1875 54.6875 \nL 48.1875 46.484375 \nL 14.40625 7.171875 \nL 48.1875 7.171875 \nL 48.1875 0 \nL 4.296875 0 \nL 4.296875 8.203125 \nL 38.09375 47.515625 \nL 5.515625 47.515625 \nz\n\" id=\"DejaVuSans-122\"/>\n      </defs>\n      <use xlink:href=\"#DejaVuSans-116\"/>\n      <use x=\"39.208984\" xlink:href=\"#DejaVuSans-105\"/>\n      <use x=\"66.992188\" xlink:href=\"#DejaVuSans-109\"/>\n      <use x=\"164.404297\" xlink:href=\"#DejaVuSans-101\"/>\n      <use x=\"225.927734\" xlink:href=\"#DejaVuSans-95\"/>\n      <use x=\"275.927734\" xlink:href=\"#DejaVuSans-111\"/>\n      <use x=\"337.109375\" xlink:href=\"#DejaVuSans-112\"/>\n      <use x=\"400.585938\" xlink:href=\"#DejaVuSans-116\"/>\n      <use x=\"439.794922\" xlink:href=\"#DejaVuSans-105\"/>\n      <use x=\"467.578125\" xlink:href=\"#DejaVuSans-109\"/>\n      <use x=\"564.990234\" xlink:href=\"#DejaVuSans-105\"/>\n      <use x=\"592.773438\" xlink:href=\"#DejaVuSans-122\"/>\n      <use x=\"645.263672\" xlink:href=\"#DejaVuSans-101\"/>\n     </g>\n    </g>\n   </g>\n  </g>\n </g>\n <defs>\n  <clipPath id=\"pffdd051ac6\">\n   <rect height=\"434.88\" width=\"558\" x=\"39.65\" y=\"7.2\"/>\n  </clipPath>\n </defs>\n</svg>\n",
      "image/png": "[encoded data removed]"
     },
     "metadata": {
      "needs_background": "light"
     }
    }
   ],
   "source": [
    "# Bubble Sort performaces\n",
    "%matplotlib inline\n",
    "import matplotlib.pyplot as plt\n",
    "from time import time\n",
    "from random import random, randint\n",
    "\n",
    "def bubble_sort_normal(input):\n",
    "    '''\n",
    "    This is not optimized. Total number of outer loop = n and inner loop is n-1\n",
    "    in each loop all elements get scanned.\n",
    "    It do not check if the list is already sorted or not. Always asume worst case\n",
    "    '''\n",
    "    i = 1\n",
    "    while i <= len(input):\n",
    "        for num in range(len(input)-1):\n",
    "            if (input[num] > input[num+1]):\n",
    "                input[num],input[num+1] = input[num+1], input[num]\n",
    "        i=i+1\n",
    "\n",
    "def bubble_sort_swap_check(input):\n",
    "    '''\n",
    "    This is little optimized so better than previous cersion. Total number of outer loop = n and inner loop is n-1\n",
    "    in each loop all elements get scanned, however it also keep a track of swap status. If the list is already sorted then quit\n",
    "    '''\n",
    "    swap = True\n",
    "    while swap:\n",
    "        swap = False\n",
    "        for num in range(len(input)-1):\n",
    "            if (input[num] > input[num+1]):\n",
    "                input[num],input[num+1] = input[num+1], input[num]\n",
    "                swap = True\n",
    "\n",
    "def bubble_sort_optimized (input):\n",
    "    '''\n",
    "    This is optimized so better than all previous version. Total number of outer loop = n and inner loop is n-1 for first run and\n",
    "    keep decresing as the elemets are sorted. It keep a track of swap status also do not scan the elements which are already sorted\n",
    "    '''\n",
    "    swap = True\n",
    "    # to keep track of already sorted positions\n",
    "    i = 0\n",
    "    while swap:\n",
    "        swap = False\n",
    "        for element in range(len(input)-1-i):\n",
    "            if input[element] > input[element+1]:\n",
    "                input[element],input[element+1] = input[element+1], input[element]\n",
    "                swap = True\n",
    "        i = i+1\n",
    "\n",
    "time_sort = []\n",
    "time_swap_check = []\n",
    "time_optimize = []\n",
    "\n",
    "sizes = [1000*i for i in range(1,100)] \n",
    "for size in sizes:\n",
    "    to_sort = list(randint(1,10000000000) for x in range(size))\n",
    "    to_sort_1 = to_sort.copy()\n",
    "    to_sort_2 = to_sort.copy()\n",
    "    to_sort_3 = to_sort.copy()\n",
    "    start_time = time()\n",
    "    bubble_sort(to_sort_1)\n",
    "    time_sort.append(time() - start_time)\n",
    "    start_time = time()\n",
    "    bubble_sort_swap_check(to_sort_2)\n",
    "    time_swap_check.append(time() - start_time)\n",
    "    start_time = time()\n",
    "    bubble_sort_optimized(to_sort_3)\n",
    "    time_optimize.append(time() - start_time)\n",
    "\n",
    "plt.figure(figsize=(10,8))\n",
    "l1 = plt.plot(time_sort)\n",
    "l2 = plt.plot(time_swap_check)\n",
    "l3 = plt.plot(time_optimize)\n",
    "plt.legend(['time_sort', 'time_swap_check', 'time_optimize'])"
   ]
  },
  {
   "cell_type": "code",
   "execution_count": 54,
   "metadata": {
    "tags": []
   },
   "outputs": [
    {
     "output_type": "stream",
     "name": "stdout",
     "text": [
      "44.26239800453186\n",
      "59.05424380302429\n",
      "61.94454050064087\n",
      "55.170841217041016\n"
     ]
    }
   ],
   "source": [
    "# bubble sort asc and desc\n",
    "def bubble_sort_desc (arr):\n",
    "    swap = True\n",
    "    while swap:\n",
    "        swap = False\n",
    "        for element in range(len(arr)-1):\n",
    "            if arr[element] > arr[element+1]:\n",
    "                arr[element],arr[element+1] = arr[element+1], arr[element]\n",
    "                swap = True\n",
    "\n",
    "def bubble_sort_asc (arr):\n",
    "    swap = True\n",
    "    while swap:\n",
    "        swap = False\n",
    "        for element in range(len(arr)-1):\n",
    "            if arr[element] < arr[element+1]:\n",
    "                arr[element],arr[element+1] = arr[element+1], arr[element]\n",
    "                swap = True\n",
    "\n",
    "from random import randint\n",
    "from time import time\n",
    "l1= list(randint(1,10000000000) for x in range(20000))\n",
    "l2 = l.copy()\n",
    "start = time()\n",
    "#----------------------------#\n",
    "start = time()\n",
    "bubble_sort_asc(l1)\n",
    "print(time()-start)\n",
    "#----------------------------#\n",
    "start = time()\n",
    "bubble_sort_desc(l2)\n",
    "print(time()-start)\n",
    "#----------------------------#\n",
    "start = time()\n",
    "bubble_sort_asc(l2)\n",
    "print(time()-start)\n",
    "#----------------------------#\n",
    "start = time()\n",
    "bubble_sort_desc(l1)\n",
    "print(time()-start)\n",
    "#----------------------------#"
   ]
  },
  {
   "cell_type": "code",
   "execution_count": 57,
   "metadata": {},
   "outputs": [
    {
     "output_type": "stream",
     "name": "stdout",
     "text": [
      "[0, 1, 2, 3, 4, 5, 6, 7]\n"
     ]
    }
   ],
   "source": [
    "# selection sort\n",
    "print(list(range(8)))"
   ]
  },
  {
   "cell_type": "code",
   "execution_count": 76,
   "metadata": {},
   "outputs": [
    {
     "output_type": "stream",
     "name": "stdout",
     "text": [
      "loop: 0\nposition: 0\nchecking 16 and 11\nswaped\nposition: 1\nchecking 16 and 18\nposition: 2\nchecking 18 and 13\nswaped\nposition: 3\nchecking 18 and 14\nswaped\nposition: 4\nchecking 18 and 15\nswaped\n[11, 16, 13, 14, 15, 18]\n-----------\nloop: 1\nposition: 0\nchecking 11 and 16\nposition: 1\nchecking 16 and 13\nswaped\nposition: 2\nchecking 16 and 14\nswaped\nposition: 3\nchecking 16 and 15\nswaped\n[11, 13, 14, 15, 16, 18]\n-----------\nloop: 2\nposition: 0\nchecking 11 and 13\nposition: 1\nchecking 13 and 14\nposition: 2\nchecking 14 and 15\n[11, 13, 14, 15, 16, 18]\n-----------\n"
     ]
    },
    {
     "output_type": "execute_result",
     "data": {
      "text/plain": [
       "[11, 13, 14, 15, 16, 18]"
      ]
     },
     "metadata": {},
     "execution_count": 76
    }
   ],
   "source": [
    "def bubble_sort_desc (arr):\n",
    "    swap = True\n",
    "    i = 0\n",
    "    while swap:\n",
    "        swap = False\n",
    "        print(f\"loop: {i}\")\n",
    "        for element in range(len(arr)-1-i):\n",
    "            print(f\"position: {element}\")\n",
    "            print(f\"checking {arr[element]} and {arr[element+1]}\")\n",
    "            if arr[element] > arr[element+1]:\n",
    "                print(\"swaped\")\n",
    "                arr[element],arr[element+1] = arr[element+1], arr[element]\n",
    "                swap = True\n",
    "        print(l)\n",
    "        print(\"-----------\")\n",
    "        i = i+1\n",
    "l = [16,11,18,13,14,15]\n",
    "bubble_sort_desc(l)\n",
    "l"
   ]
  },
  {
   "cell_type": "code",
   "execution_count": null,
   "metadata": {},
   "outputs": [],
   "source": []
  }
 ]
}