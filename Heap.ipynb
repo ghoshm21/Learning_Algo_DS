{
 "cells": [
  {
   "cell_type": "code",
   "execution_count": null,
   "metadata": {},
   "outputs": [],
   "source": [
    "# Building max heap"
   ]
  },
  {
   "cell_type": "code",
   "execution_count": null,
   "metadata": {},
   "outputs": [],
   "source": []
  },
  {
   "cell_type": "code",
   "execution_count": 240,
   "metadata": {},
   "outputs": [],
   "source": [
    "arr = [1,2,3,4,5,6,7,8,9]"
   ]
  },
  {
   "cell_type": "code",
   "execution_count": 241,
   "metadata": {},
   "outputs": [],
   "source": [
    "def max_heapify(arr,n,i):\n",
    "    largest = i\n",
    "    left = i*2\n",
    "    right = i*2+1\n",
    "    # using -1 to compensate the arr starting point, arr start with 0 while heap start with 1\n",
    "    if left<=n and arr[i-1]<arr[left-1]:\n",
    "        largest = left\n",
    "    if right<=n and arr[largest-1]<arr[right-1]:# comparing with largest if left condition is already satisfied\n",
    "        largest = right\n",
    "    if largest != i:\n",
    "        arr[i-1],arr[largest-1] = arr[largest-1],arr[i-1]\n",
    "        # heapify the leaf node again after heapify the above lavel\n",
    "        max_heapify(arr,n,largest)\n",
    "\n",
    "\n",
    "\n",
    "    "
   ]
  },
  {
   "cell_type": "code",
   "execution_count": 242,
   "metadata": {},
   "outputs": [
    {
     "name": "stdout",
     "output_type": "stream",
     "text": [
      "the max heap is: [9, 8, 7, 4, 5, 6, 3, 2, 1]\n"
     ]
    }
   ],
   "source": [
    "n=len(arr)\n",
    "for i in range(n // 2, 0, -1):\n",
    "    max_heapify(arr,n,i)\n",
    "print(f\"the max heap is: {arr}\")"
   ]
  },
  {
   "cell_type": "code",
   "execution_count": 243,
   "metadata": {},
   "outputs": [],
   "source": [
    "# this also works but have O(nlogn), as i am looping through every element\n",
    "# for i in range(n-1,0,-1):\n",
    "#     arr[0],arr[i] = arr[i],arr[0]\n",
    "#     for j in range(i // 2, 0, -1):\n",
    "#         max_heapify(arr,i,j)"
   ]
  },
  {
   "cell_type": "code",
   "execution_count": null,
   "metadata": {},
   "outputs": [],
   "source": []
  },
  {
   "cell_type": "code",
   "execution_count": 244,
   "metadata": {},
   "outputs": [
    {
     "data": {
      "text/plain": [
       "[9, 8, 7, 4, 5, 6, 3, 2, 1]"
      ]
     },
     "execution_count": 244,
     "metadata": {},
     "output_type": "execute_result"
    }
   ],
   "source": [
    "arr"
   ]
  },
  {
   "cell_type": "code",
   "execution_count": 245,
   "metadata": {},
   "outputs": [],
   "source": [
    "# heap sort\n",
    "for i in range(n-1, -1, -1): # soft delete every element, one after another\n",
    "        arr[0],arr[i] = arr[i], arr[0]   # swap \n",
    "        max_heapify(arr, i, 1) # pass the length of arr as an element less with root as begening"
   ]
  },
  {
   "cell_type": "code",
   "execution_count": 246,
   "metadata": {},
   "outputs": [
    {
     "data": {
      "text/plain": [
       "[1, 2, 3, 4, 5, 6, 7, 8, 9]"
      ]
     },
     "execution_count": 246,
     "metadata": {},
     "output_type": "execute_result"
    }
   ],
   "source": [
    "arr"
   ]
  },
  {
   "cell_type": "code",
   "execution_count": null,
   "metadata": {},
   "outputs": [],
   "source": []
  }
 ],
 "metadata": {
  "kernelspec": {
   "display_name": "Python 3.8.5 64-bit ('nlp')",
   "language": "python",
   "name": "python38564bitnlpd8d34a4971064c91a824973644f122aa"
  },
  "language_info": {
   "codemirror_mode": {
    "name": "ipython",
    "version": 3
   },
   "file_extension": ".py",
   "mimetype": "text/x-python",
   "name": "python",
   "nbconvert_exporter": "python",
   "pygments_lexer": "ipython3",
   "version": "3.8.5"
  }
 },
 "nbformat": 4,
 "nbformat_minor": 4
}
