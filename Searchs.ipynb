{
 "cells": [
  {
   "cell_type": "code",
   "execution_count": 122,
   "metadata": {},
   "outputs": [
    {
     "name": "stdout",
     "output_type": "stream",
     "text": [
      "6\n"
     ]
    }
   ],
   "source": [
    "# Linear Searche\n",
    "def liner_searche(arr, element):\n",
    "    pos,x = -1,0\n",
    "    while (pos <= -1) and (x<=len(arr)-1):\n",
    "        if element == arr[x]:\n",
    "            pos = x\n",
    "        else:\n",
    "            x = x+1\n",
    "    return pos\n",
    "\n",
    "l = [1,2,3,4,5,6,7,8,9,0]\n",
    "search=7\n",
    "print(liner_searche(l,search))\n",
    "    "
   ]
  },
  {
   "cell_type": "code",
   "execution_count": 120,
   "metadata": {},
   "outputs": [
    {
     "name": "stdout",
     "output_type": "stream",
     "text": [
      "0 found in list at index: 2\n",
      "0 found in list at index: 0\n",
      "we have an empty list\n"
     ]
    }
   ],
   "source": [
    "# binary Searche Iterative version\n",
    "def binary_search_itr(arr, element):\n",
    "    if len(arr) == 0:\n",
    "        return f\"we have an empty list\"\n",
    "    else:\n",
    "        start,end = 0,len(arr)-1\n",
    "        while start<=end: # check all the list till the single element(@ single element start = stop)\n",
    "            mid = (start+end)//2 # get the mid\n",
    "            # if mid = element\n",
    "            if arr[mid] == element:\n",
    "                return f\"{element} found in list at index: {mid}\"\n",
    "            elif element < arr[mid]:\n",
    "                start,end = start, mid-1\n",
    "            else:\n",
    "                start,end = mid+1, end\n",
    "        return f\"{element} not found in list\"\n",
    "\n",
    "l1 = [-2,-1,0,1,2,3,4,5,6,7,8,9,10,100]\n",
    "l2 = [0]\n",
    "l3 = []\n",
    "search=0\n",
    "print(binary_search_itr(l1,search))\n",
    "print(binary_search_itr(l2,search))\n",
    "print(binary_search_itr(l3,search))\n"
   ]
  },
  {
   "cell_type": "code",
   "execution_count": 119,
   "metadata": {},
   "outputs": [
    {
     "name": "stdout",
     "output_type": "stream",
     "text": [
      "0 found in list at index: 2\n",
      "0 found in list at index: 0\n",
      "we have an empty list\n"
     ]
    }
   ],
   "source": [
    "def binary_search_rec(arr, element, start, stop):\n",
    "    if start>stop:\n",
    "        return f\"{element} not found in list\"\n",
    "    else:\n",
    "        mid = (start+end)//2 # get the mid\n",
    "        if arr[mid] == element:\n",
    "            return f\"{element} found in list at index: {mid}\"\n",
    "        elif element < arr[mid]:\n",
    "            binary_search_rec(arr, element, start, mid-1)\n",
    "        else:\n",
    "            binary_search_rec(arr, element, mid+1, end)\n",
    "\n",
    "l1 = [-2,-1,0,1,2,3,4,5,6,7,8,9,10,100]\n",
    "l2 = [0]\n",
    "l3 = []\n",
    "search=0\n",
    "print(binary_search_itr(l1,search))\n",
    "print(binary_search_itr(l2,search))\n",
    "print(binary_search_itr(l3,search))"
   ]
  },
  {
   "cell_type": "code",
   "execution_count": null,
   "metadata": {},
   "outputs": [],
   "source": []
  },
  {
   "cell_type": "code",
   "execution_count": null,
   "metadata": {},
   "outputs": [],
   "source": []
  }
 ],
 "metadata": {
  "kernelspec": {
   "display_name": "Python 3.8.5 64-bit ('nlp')",
   "language": "python",
   "name": "python38564bitnlpd8d34a4971064c91a824973644f122aa"
  },
  "language_info": {
   "codemirror_mode": {
    "name": "ipython",
    "version": 3
   },
   "file_extension": ".py",
   "mimetype": "text/x-python",
   "name": "python",
   "nbconvert_exporter": "python",
   "pygments_lexer": "ipython3",
   "version": "3.8.5"
  }
 },
 "nbformat": 4,
 "nbformat_minor": 4
}
